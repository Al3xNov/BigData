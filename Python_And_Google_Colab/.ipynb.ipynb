{
 "cells": [
  {
   "cell_type": "markdown",
   "metadata": {},
   "source": [
    "# Jupiter Notebook and Python Basics\n",
    "---\n",
    "<a id='what'/>\n",
    "\n",
    "* [What is Jupyter Notebook?](#what)\n",
    "    * [Modes of Operation](#modes)\n",
    "    * [shortcuts](#shortcuts)\n",
    "    * [Markdown Language](#markdown)\n",
    "* [Python in Jupyter Notebook](#python)\n",
    "    * [Python Basics](#basics)\n",
    "    * [importing libraries](#import)    \n",
    "    * [Casting](#cast)\n",
    "* [Workspace Commands](#work)\n",
    "\n",
    "\n",
    "\n",
    "\n",
    "### Link to Exercises\n",
    "\n",
    "* [Exe 1](#ex1)\n",
    "* [Exe 2](#ex2)\n",
    "* [Exe 3](#ex3)"
   ]
  },
  {
   "cell_type": "markdown",
   "metadata": {},
   "source": [
    "## What is Jupyter Notebook?\n"
   ]
  },
  {
   "cell_type": "markdown",
   "metadata": {},
   "source": [
    "<p>The Jupyter Notebook is an open-source web application that allows you to create and share documents that contain live code, equations, visualizations and narrative text.</p><p> Uses include: data cleaning and transformation, numerical simulation, statistical modeling, data visualization, machine learning, and much more.</p>"
   ]
  },
  {
   "cell_type": "markdown",
   "metadata": {},
   "source": [
    "For more information go to [jupyter lab web page](https://jupyter.org/)"
   ]
  },
  {
   "cell_type": "markdown",
   "metadata": {},
   "source": [
    "## Modes of operation\n",
    "<a id='modes'></a>"
   ]
  },
  {
   "cell_type": "markdown",
   "metadata": {},
   "source": [
    "### Edit mode \n",
    "Edit mode is indicated by a green cell border and a prompt showing in the editor area.\n",
    "When a cell is in edit mode, you can type into the cell, like a normal text editor.\n",
    "Enter edit mode by pressing ``Enter`` or using the mouse to double click on a cell’s editor area.\n",
    "\n",
    "### Command mode \n",
    "Command mode is indicated by a grey cell border with a blue left margin.\n",
    "When you are in command mode, you are able to edit the notebook as a whole, but not type into individual cells. Most importantly, in command mode, the keyboard is mapped to a set of shortcuts that let you perform notebook and cell actions efficiently. For example, if you are in command mode and you press c, you will copy the current cell - no modifier is needed.\n",
    "Don’t try to type into a cell in command mode; unexpected things will happen!\n",
    "Enter command mode by pressing ``Esc`` or using the mouse to click outside a cell’s editor area.\n"
   ]
  },
  {
   "cell_type": "markdown",
   "metadata": {},
   "source": [
    "###  Exercise 1\n",
    "<a id='ex1'></a>"
   ]
  },
  {
   "cell_type": "markdown",
   "metadata": {},
   "source": [
    "1. Use the mouse or keyboard and select the cell below\n",
    "2. hit the ``Esc`` and ``Enter`` keys to switch between edit and command mode.\n",
    "3. when in edit mode - change the text in the cell below to :**Big Data Ruppin**\n",
    "4. click on the ``>|Run`` button to display your text"
   ]
  },
  {
   "cell_type": "markdown",
   "metadata": {},
   "source": [
    "***change this text!!***\n"
   ]
  },
  {
   "cell_type": "markdown",
   "metadata": {},
   "source": [
    "# Shortcuts and Keyboard Navigation\n",
    "<a id='shortcuts'></a>\n",
    " "
   ]
  },
  {
   "cell_type": "markdown",
   "metadata": {},
   "source": [
    "We just learned the most important and frequently used keyboard shortcuts: ``Enter``, which enters edit mode, and ``Esc``, which enters command mode."
   ]
  },
  {
   "cell_type": "markdown",
   "metadata": {},
   "source": [
    "In edit mode, most of the keyboard is dedicated to typing into the cell’s editor. Thus, in edit mode there are relatively few shortcuts. In command mode, the entire keyboard is available for shortcuts, so there are many more. "
   ]
  },
  {
   "cell_type": "markdown",
   "metadata": {},
   "source": [
    "you can always open the ``Keyboard Shortcuts`` dialog by hitting ``h`` in command mode, to list the available shortcuts. yet, we recommend learning these basic command mode shortcuts in the following rough order:\n",
    "\n"
   ]
  },
  {
   "cell_type": "markdown",
   "metadata": {},
   "source": [
    "1. Basic navigation: ``enter``, ``shift-enter``, ``up/k``, ``down/j``\n",
    "\n",
    "2. Saving the notebook: ``s``\n",
    "\n",
    "3. Change Cell types: ``y`` code mode, ``m`` markdown mode , ``1-6`` header\n",
    "\n",
    "4. Cell creation: ``a`` before current selection, ``b`` after.\n",
    "\n",
    "5. Cell editing: ``x`` cut, ``c`` copy, ``v`` paste, ``d`` delete(double press), ``z``redo\n",
    "\n",
    "6. shortcuts dialog: ``h``\n"
   ]
  },
  {
   "cell_type": "markdown",
   "metadata": {},
   "source": [
    "###  Exercise 2\n",
    "<a id='ex2'></a>"
   ]
  },
  {
   "cell_type": "markdown",
   "metadata": {},
   "source": [
    "**Use keyboard shortcuts only and follow these instructions** \n",
    "1. create a new cell below this one.\n",
    "2. change the cell type to **code mode**.\n",
    "3. edit the cell and add an arithmetic expression like: $100^{2.5}+23456$. (use ** for the exponentiaion operator)\n",
    "4. run the cell with no errors\n",
    "5. duplicate the cell\n",
    "6. delete one of the cells."
   ]
  },
  {
   "cell_type": "markdown",
   "metadata": {},
   "source": [
    "# Markdown Language Cells\n",
    "<a id=markdown></a>\n",
    " "
   ]
  },
  {
   "cell_type": "markdown",
   "metadata": {},
   "source": [
    "Text can be added to Jupyter Notebooks using Markdown cells. You can change the cell type to Markdown by using the Cell menu, the toolbar, or the key shortcut \"**m**\". Markdown is a popular markup language that is a superset of HTML. Its specification can be found here:\n",
    "\n"
   ]
  },
  {
   "cell_type": "markdown",
   "metadata": {},
   "source": [
    "[markdown specifications](https://daringfireball.net/projects/markdown/)"
   ]
  },
  {
   "cell_type": "markdown",
   "metadata": {},
   "source": [
    "Markdown langauage gives you the ability to style your notebook. for example :\n",
    "\n",
    "1. sorted and unsorted list:\n",
    "    * *italic text*\n",
    "    * **bold text**\n",
    "2. [link to location in local page](#what)\n",
    "3. [link to external url](http://turgibook.com/)\n",
    "4. Headers\n",
    "# h1\n",
    "## h2\n",
    "###### h6\n",
    "5. include images:\n",
    "![Example image](example.png \"This is an example image text\")\n",
    "6. many more ..."
   ]
  },
  {
   "cell_type": "markdown",
   "metadata": {},
   "source": [
    "A good summary cheet sheet is available on github : [link to github](https://github.com/adam-p/markdown-here/wiki/Markdown-Cheatsheet)."
   ]
  },
  {
   "cell_type": "markdown",
   "metadata": {},
   "source": [
    "# Python Code "
   ]
  },
  {
   "cell_type": "markdown",
   "metadata": {},
   "source": [
    "First and foremost, the Jupyter Notebook is an interactive environment for writing and running code. The notebook is capable of running code in a wide range of languages. However, each notebook is associated with a single kernel. This notebook is associated with the IPython kernel, therefore runs Python code."
   ]
  },
  {
   "cell_type": "markdown",
   "metadata": {},
   "source": [
    "### JN Code cells allow you to enter and run code\n",
    "Run a code cell using ```Shift-Enter``` or pressing the ``run`` button in the toolbar above:\n",
    " "
   ]
  },
  {
   "cell_type": "code",
   "execution_count": 1,
   "metadata": {},
   "outputs": [
    {
     "name": "stdout",
     "output_type": "stream",
     "text": [
      "1000\n"
     ]
    }
   ],
   "source": [
    "x = 10\n",
    "y = 3\n",
    "print(x**y)"
   ]
  },
  {
   "cell_type": "markdown",
   "metadata": {},
   "source": [
    "There are two other keyboard shortcuts for running code:\n",
    "\n",
    "1. **Alt-Enter** runs the current cell and inserts a new one below.\n",
    "\n",
    "2. **Ctrl-Enter** run the current cell and enters command mode."
   ]
  },
  {
   "cell_type": "markdown",
   "metadata": {},
   "source": [
    "## Python basics\n",
    "<a id='basics'></a>"
   ]
  },
  {
   "cell_type": "markdown",
   "metadata": {},
   "source": [
    "### Relevant diffrences between Java/C# and Python:\n",
    "1. line of code doesn't end in ';'\n",
    "2. A block of code is indented instead of using curley brackets '{}' \n",
    "3. Java/C# is a statically typed and Python is a dynamically typed.\n",
    "4. Python is interpreted \n",
    "\n",
    "more information can be found [here](https://hackr.io/blog/c-sharp-vs-python)"
   ]
  },
  {
   "cell_type": "markdown",
   "metadata": {},
   "source": [
    "### comments"
   ]
  },
  {
   "cell_type": "code",
   "execution_count": 2,
   "metadata": {},
   "outputs": [],
   "source": [
    "# This is a single line comment (same as // in c)\n",
    "# An intire cell can be commented ou by hitting ctrl+/ in command mode"
   ]
  },
  {
   "cell_type": "markdown",
   "metadata": {},
   "source": [
    "### Variables assignments and operators\n"
   ]
  },
  {
   "cell_type": "code",
   "execution_count": 3,
   "metadata": {},
   "outputs": [
    {
     "name": "stdout",
     "output_type": "stream",
     "text": [
      "6\n",
      "53.5\n",
      "48.5\n",
      "127.5\n",
      "20.4\n",
      "18574.855342639952\n",
      "1.0\n",
      "20.0\n",
      "<class 'int'>\n",
      "<class 'float'>\n"
     ]
    }
   ],
   "source": [
    "# standard arithmetic operators\n",
    "print(1+2+3)\n",
    "a = 51\n",
    "b = 2.5\n",
    "print(a+b)  # Addition\n",
    "print(a-b)  # Subtraction\n",
    "print(a*b)  # Multiplication\n",
    "print(a/b)  # Division\n",
    "print(a**b) # Exponentiation\n",
    "print(a%b)  # Remainder (modulu)\n",
    "print(a//b)  # integer division\n",
    "print(type(a))\n",
    "print(type(b))\n"
   ]
  },
  {
   "cell_type": "markdown",
   "metadata": {},
   "source": [
    "### import libraries\n",
    "<a id='import'></a>"
   ]
  },
  {
   "cell_type": "code",
   "execution_count": 4,
   "metadata": {},
   "outputs": [
    {
     "name": "stdout",
     "output_type": "stream",
     "text": [
      "7.14142842854285\n",
      "1551118753287382280224243016469303211063259720016986112000000000000\n"
     ]
    }
   ],
   "source": [
    "# print(sqrt(a)) # not executed! \n",
    "import math  #  This command will import all functions from the math module.\n",
    "print(math.sqrt(a))  # this is executed!\n",
    "print(math.factorial(a))  "
   ]
  },
  {
   "cell_type": "code",
   "execution_count": 5,
   "metadata": {},
   "outputs": [
    {
     "name": "stdout",
     "output_type": "stream",
     "text": [
      "example string another string\n",
      "True\n",
      "<class 'str'>\n",
      "<class 'str'>\n",
      "<class 'bool'>\n"
     ]
    }
   ],
   "source": [
    "s1 = 'example string'\n",
    "s2 = \"another string\"\n",
    "b1 = True ## or false\n",
    "print(s1+\" \"+ s2) #string concatanation operator\n",
    "print(b1)\n",
    "print(type(s1))\n",
    "print(type(s2))\n",
    "print(type(b1))"
   ]
  },
  {
   "cell_type": "markdown",
   "metadata": {},
   "source": [
    "### Casting\n",
    "<a id='cast'></a>"
   ]
  },
  {
   "cell_type": "code",
   "execution_count": 6,
   "metadata": {},
   "outputs": [
    {
     "name": "stdout",
     "output_type": "stream",
     "text": [
      "123\n",
      "51.0\n",
      "a+b=53.5\n",
      "a/7=7.285714285714286\n",
      "a//7=7\n"
     ]
    }
   ],
   "source": [
    "a = 51\n",
    "b = 2.5\n",
    "e = 123.45\n",
    "print(int(e))\n",
    "print(float(a))\n",
    "print(\"a+b=\"+str(a+b))\n",
    "print(\"a/7=\"+str(a/7))\n",
    "print(\"a//7=\"+str(a//7))\n",
    "\n"
   ]
  },
  {
   "cell_type": "markdown",
   "metadata": {},
   "source": [
    "### indentation"
   ]
  },
  {
   "cell_type": "code",
   "execution_count": 7,
   "metadata": {},
   "outputs": [
    {
     "name": "stdout",
     "output_type": "stream",
     "text": [
      "52 2.5\n",
      "0\n",
      "1\n",
      "2\n",
      "3\n",
      "4\n"
     ]
    }
   ],
   "source": [
    "if(a>b):\n",
    "    a+=1\n",
    "elif(b==100):\n",
    "    a-=1\n",
    "else:\n",
    "    b+=1\n",
    "    \n",
    "print(a,b)\n",
    "for i in range(5):\n",
    "    print(i)"
   ]
  },
  {
   "cell_type": "markdown",
   "metadata": {},
   "source": [
    "# workspace and system commands\n",
    "<a id='work'></a>"
   ]
  },
  {
   "cell_type": "markdown",
   "metadata": {},
   "source": [
    "* The command **%whos** shows all variables that existing in the workspace.\n",
    "* adding a parameter like str/int/float will list only variables of that type."
   ]
  },
  {
   "cell_type": "code",
   "execution_count": 8,
   "metadata": {},
   "outputs": [
    {
     "name": "stdout",
     "output_type": "stream",
     "text": [
      "Variable   Type      Data/Info\n",
      "------------------------------\n",
      "a          int       52\n",
      "b          float     2.5\n",
      "b1         bool      True\n",
      "e          float     123.45\n",
      "i          int       4\n",
      "math       module    <module 'math' (built-in)>\n",
      "s1         str       example string\n",
      "s2         str       another string\n",
      "x          int       10\n",
      "y          int       3\n"
     ]
    }
   ],
   "source": [
    "%whos"
   ]
  },
  {
   "cell_type": "markdown",
   "metadata": {},
   "source": [
    "* the command %pwd = prints the current working directory "
   ]
  },
  {
   "cell_type": "code",
   "execution_count": 9,
   "metadata": {},
   "outputs": [
    {
     "name": "stdout",
     "output_type": "stream",
     "text": [
      "D:\\MyCoursesHome\\BigData\\Recitations\\2019_2020\n",
      "D:\\MyCoursesHome\\BigData\\Recitations\\2019_2020\n"
     ]
    }
   ],
   "source": [
    "dir = %pwd\n",
    "print(dir)\n",
    "\n",
    "##another option usinf a library\n",
    "import os\n",
    "cwd = os.getcwd()\n",
    "print (cwd)"
   ]
  },
  {
   "cell_type": "markdown",
   "metadata": {},
   "source": [
    "The command **%cd**  Changes the current working directory.\n",
    "\n",
    "**%cd dir name **  = changes to directory *dir name*\n",
    "\n",
    "**cd -  **     changes to the last visited directory."
   ]
  },
  {
   "cell_type": "code",
   "execution_count": 10,
   "metadata": {},
   "outputs": [
    {
     "name": "stdout",
     "output_type": "stream",
     "text": [
      "C:\\Users\\Guy Tordjman\n"
     ]
    }
   ],
   "source": [
    "# changes to directory ‘C:\\\\Users\\\\Guy Tordjman’.\n",
    "%cd \"C://Users/Guy Tordjman\"\n"
   ]
  },
  {
   "cell_type": "code",
   "execution_count": 11,
   "metadata": {},
   "outputs": [
    {
     "name": "stdout",
     "output_type": "stream",
     "text": [
      "D:\\MyCoursesHome\\BigData\\Recitations\\2019_2020\n"
     ]
    }
   ],
   "source": [
    "#go back to previous directory\n",
    "%cd -"
   ]
  },
  {
   "cell_type": "markdown",
   "metadata": {},
   "source": [
    "## Help needed??\n",
    "<a id='help'></a>\n",
    "use **??** or **help(function name)** to get docstring of a function"
   ]
  },
  {
   "cell_type": "code",
   "execution_count": 12,
   "metadata": {},
   "outputs": [],
   "source": [
    "math.sqrt?\n",
    "\n"
   ]
  },
  {
   "cell_type": "code",
   "execution_count": 13,
   "metadata": {},
   "outputs": [
    {
     "name": "stdout",
     "output_type": "stream",
     "text": [
      "Help on built-in function sqrt in module math:\n",
      "\n",
      "sqrt(...)\n",
      "    sqrt(x)\n",
      "    \n",
      "    Return the square root of x.\n",
      "\n"
     ]
    }
   ],
   "source": [
    "help(math.sqrt)"
   ]
  },
  {
   "cell_type": "markdown",
   "metadata": {},
   "source": [
    "\n",
    "**shift + tab** \n",
    "\n",
    "shift-tab in python pulls up the docstring (signature of the function)"
   ]
  },
  {
   "cell_type": "markdown",
   "metadata": {},
   "source": [
    "###  Exercise 3\n",
    "<a id='ex3'></a>"
   ]
  },
  {
   "cell_type": "markdown",
   "metadata": {},
   "source": [
    "if you bought a ticket to Miami today it would cost you \\\\$1250.\n",
    "unfortunately, you've just heard that there is a hurrican on it's way to Florida so you decided to wait.\n",
    "**The price of the ticket increases everyday by 1.25% of the current price.**\n",
    "Your maximum budget for the journey is \\\\$1500.\n",
    "* How long(maximum number of days)can you wait?\n",
    "* What is the final price of the ticket?  "
   ]
  },
  {
   "cell_type": "code",
   "execution_count": 14,
   "metadata": {},
   "outputs": [
    {
     "name": "stdout",
     "output_type": "stream",
     "text": [
      "final price is 1487.44 and you have maximum of 14 days\n"
     ]
    }
   ],
   "source": [
    "price = 1250\n",
    "max_price = 1500\n",
    "counter = 21\n",
    "factor = 1.0125\n",
    "final_price = 0\n",
    "while True:\n",
    "    counter -= 1\n",
    "    final_price = price*factor**counter \n",
    "    if final_price < max_price:\n",
    "        break\n",
    "print(\"final price is %.2f and you have maximum of %1d days\" %(final_price, counter))"
   ]
  }
 ],
 "metadata": {
  "kernelspec": {
   "display_name": "Python 3",
   "language": "python",
   "name": "python3"
  },
  "language_info": {
   "codemirror_mode": {
    "name": "ipython",
    "version": 3
   },
   "file_extension": ".py",
   "mimetype": "text/x-python",
   "name": "python",
   "nbconvert_exporter": "python",
   "pygments_lexer": "ipython3",
   "version": "3.6.5"
  }
 },
 "nbformat": 4,
 "nbformat_minor": 2
}
